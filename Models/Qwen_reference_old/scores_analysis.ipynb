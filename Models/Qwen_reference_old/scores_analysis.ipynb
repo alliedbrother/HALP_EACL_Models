{
 "cells": [
  {
   "cell_type": "code",
   "execution_count": 1,
   "metadata": {},
   "outputs": [],
   "source": [
    "import numpy as np \n",
    "import pandas as pd \n",
    "import matplotlib.pyplot as plt"
   ]
  },
  {
   "cell_type": "code",
   "execution_count": 3,
   "metadata": {},
   "outputs": [],
   "source": [
    "data = pd.read_csv(\"/root/akhil_workspace/qwen_model/evaluation_results/qwen2_comprehensive_scores.csv\")"
   ]
  },
  {
   "cell_type": "code",
   "execution_count": 4,
   "metadata": {},
   "outputs": [
    {
     "data": {
      "text/plain": [
       "Index(['image_id', 'generated_caption', 'ground_truth_captions',\n",
       "       'factual_score', 'has_hallucination', 'mentioned_objects',\n",
       "       'hallucinated_objects', 'ground_truth_objects', 'BLEU-1', 'BLEU-4',\n",
       "       'ROUGE-L', 'hallucinated_objects_count', 'mentioned_objects_count',\n",
       "       'ground_truth_objects_count', 'chair_regression_score'],\n",
       "      dtype='object')"
      ]
     },
     "execution_count": 4,
     "metadata": {},
     "output_type": "execute_result"
    }
   ],
   "source": [
    "data.columns"
   ]
  },
  {
   "cell_type": "code",
   "execution_count": 5,
   "metadata": {},
   "outputs": [
    {
     "data": {
      "text/plain": [
       "has_hallucination\n",
       "False    38201\n",
       "True      2303\n",
       "Name: count, dtype: int64"
      ]
     },
     "execution_count": 5,
     "metadata": {},
     "output_type": "execute_result"
    }
   ],
   "source": [
    "data.has_hallucination.value_counts()"
   ]
  },
  {
   "cell_type": "code",
   "execution_count": 6,
   "metadata": {},
   "outputs": [
    {
     "data": {
      "text/plain": [
       "hallucinated_objects_count\n",
       "0    38201\n",
       "1     2138\n",
       "2      150\n",
       "3       14\n",
       "4        1\n",
       "Name: count, dtype: int64"
      ]
     },
     "execution_count": 6,
     "metadata": {},
     "output_type": "execute_result"
    }
   ],
   "source": [
    "data.hallucinated_objects_count.value_counts()"
   ]
  },
  {
   "cell_type": "code",
   "execution_count": 7,
   "metadata": {},
   "outputs": [
    {
     "data": {
      "text/plain": [
       "mentioned_objects_count\n",
       "0    22664\n",
       "1    14681\n",
       "2     2789\n",
       "3      342\n",
       "4       26\n",
       "5        2\n",
       "Name: count, dtype: int64"
      ]
     },
     "execution_count": 7,
     "metadata": {},
     "output_type": "execute_result"
    }
   ],
   "source": [
    "data.mentioned_objects_count.value_counts()"
   ]
  },
  {
   "cell_type": "code",
   "execution_count": 8,
   "metadata": {},
   "outputs": [
    {
     "data": {
      "text/plain": [
       "ground_truth_objects_count\n",
       "1    18715\n",
       "0     9829\n",
       "2     9361\n",
       "3     2199\n",
       "4      358\n",
       "5       36\n",
       "6        6\n",
       "Name: count, dtype: int64"
      ]
     },
     "execution_count": 8,
     "metadata": {},
     "output_type": "execute_result"
    }
   ],
   "source": [
    "data.ground_truth_objects_count.value_counts()"
   ]
  },
  {
   "cell_type": "code",
   "execution_count": 10,
   "metadata": {},
   "outputs": [
    {
     "name": "stdout",
     "output_type": "stream",
     "text": [
      "<class 'pandas.core.frame.DataFrame'>\n",
      "RangeIndex: 40504 entries, 0 to 40503\n",
      "Data columns (total 15 columns):\n",
      " #   Column                      Non-Null Count  Dtype  \n",
      "---  ------                      --------------  -----  \n",
      " 0   image_id                    40504 non-null  int64  \n",
      " 1   generated_caption           40504 non-null  object \n",
      " 2   ground_truth_captions       40504 non-null  object \n",
      " 3   factual_score               40504 non-null  float64\n",
      " 4   has_hallucination           40504 non-null  bool   \n",
      " 5   mentioned_objects           17840 non-null  object \n",
      " 6   hallucinated_objects        2303 non-null   object \n",
      " 7   ground_truth_objects        30675 non-null  object \n",
      " 8   BLEU-1                      40504 non-null  float64\n",
      " 9   BLEU-4                      40504 non-null  float64\n",
      " 10  ROUGE-L                     40504 non-null  float64\n",
      " 11  hallucinated_objects_count  40504 non-null  int64  \n",
      " 12  mentioned_objects_count     40504 non-null  int64  \n",
      " 13  ground_truth_objects_count  40504 non-null  int64  \n",
      " 14  chair_regression_score      40504 non-null  float64\n",
      "dtypes: bool(1), float64(5), int64(4), object(5)\n",
      "memory usage: 4.4+ MB\n"
     ]
    }
   ],
   "source": [
    "data.info()"
   ]
  },
  {
   "cell_type": "code",
   "execution_count": 11,
   "metadata": {},
   "outputs": [
    {
     "data": {
      "text/html": [
       "<div>\n",
       "<style scoped>\n",
       "    .dataframe tbody tr th:only-of-type {\n",
       "        vertical-align: middle;\n",
       "    }\n",
       "\n",
       "    .dataframe tbody tr th {\n",
       "        vertical-align: top;\n",
       "    }\n",
       "\n",
       "    .dataframe thead th {\n",
       "        text-align: right;\n",
       "    }\n",
       "</style>\n",
       "<table border=\"1\" class=\"dataframe\">\n",
       "  <thead>\n",
       "    <tr style=\"text-align: right;\">\n",
       "      <th></th>\n",
       "      <th>image_id</th>\n",
       "      <th>generated_caption</th>\n",
       "      <th>ground_truth_captions</th>\n",
       "      <th>factual_score</th>\n",
       "      <th>has_hallucination</th>\n",
       "      <th>mentioned_objects</th>\n",
       "      <th>hallucinated_objects</th>\n",
       "      <th>ground_truth_objects</th>\n",
       "      <th>BLEU-1</th>\n",
       "      <th>BLEU-4</th>\n",
       "      <th>ROUGE-L</th>\n",
       "      <th>hallucinated_objects_count</th>\n",
       "      <th>mentioned_objects_count</th>\n",
       "      <th>ground_truth_objects_count</th>\n",
       "      <th>chair_regression_score</th>\n",
       "    </tr>\n",
       "  </thead>\n",
       "  <tbody>\n",
       "    <tr>\n",
       "      <th>0</th>\n",
       "      <td>42</td>\n",
       "      <td>\"Cozy nap time amidst the clutter!\"</td>\n",
       "      <td>This wire metal rack holds several pairs of sh...</td>\n",
       "      <td>0.834602</td>\n",
       "      <td>False</td>\n",
       "      <td>NaN</td>\n",
       "      <td>NaN</td>\n",
       "      <td>dog</td>\n",
       "      <td>0.085570</td>\n",
       "      <td>0.020960</td>\n",
       "      <td>0.12500</td>\n",
       "      <td>0</td>\n",
       "      <td>0</td>\n",
       "      <td>1</td>\n",
       "      <td>0.0</td>\n",
       "    </tr>\n",
       "    <tr>\n",
       "      <th>1</th>\n",
       "      <td>73</td>\n",
       "      <td>\"Vintage motorcycle with classic design and a ...</td>\n",
       "      <td>A motorcycle parked in a parking space next to...</td>\n",
       "      <td>0.771473</td>\n",
       "      <td>False</td>\n",
       "      <td>motorcycle</td>\n",
       "      <td>NaN</td>\n",
       "      <td>bicycle; motorcycle</td>\n",
       "      <td>0.272727</td>\n",
       "      <td>0.024808</td>\n",
       "      <td>0.26087</td>\n",
       "      <td>0</td>\n",
       "      <td>1</td>\n",
       "      <td>2</td>\n",
       "      <td>0.0</td>\n",
       "    </tr>\n",
       "    <tr>\n",
       "      <th>2</th>\n",
       "      <td>74</td>\n",
       "      <td>A relaxed white dog rests on the cobblestone s...</td>\n",
       "      <td>A picture of a dog laying on the ground.; Dog ...</td>\n",
       "      <td>0.937094</td>\n",
       "      <td>False</td>\n",
       "      <td>bicycle; dog</td>\n",
       "      <td>NaN</td>\n",
       "      <td>bicycle; dog</td>\n",
       "      <td>0.578947</td>\n",
       "      <td>0.082931</td>\n",
       "      <td>0.40000</td>\n",
       "      <td>0</td>\n",
       "      <td>2</td>\n",
       "      <td>2</td>\n",
       "      <td>0.0</td>\n",
       "    </tr>\n",
       "  </tbody>\n",
       "</table>\n",
       "</div>"
      ],
      "text/plain": [
       "   image_id                                  generated_caption  \\\n",
       "0        42                \"Cozy nap time amidst the clutter!\"   \n",
       "1        73  \"Vintage motorcycle with classic design and a ...   \n",
       "2        74  A relaxed white dog rests on the cobblestone s...   \n",
       "\n",
       "                               ground_truth_captions  factual_score  \\\n",
       "0  This wire metal rack holds several pairs of sh...       0.834602   \n",
       "1  A motorcycle parked in a parking space next to...       0.771473   \n",
       "2  A picture of a dog laying on the ground.; Dog ...       0.937094   \n",
       "\n",
       "   has_hallucination mentioned_objects hallucinated_objects  \\\n",
       "0              False               NaN                  NaN   \n",
       "1              False        motorcycle                  NaN   \n",
       "2              False      bicycle; dog                  NaN   \n",
       "\n",
       "  ground_truth_objects    BLEU-1    BLEU-4  ROUGE-L  \\\n",
       "0                  dog  0.085570  0.020960  0.12500   \n",
       "1  bicycle; motorcycle  0.272727  0.024808  0.26087   \n",
       "2         bicycle; dog  0.578947  0.082931  0.40000   \n",
       "\n",
       "   hallucinated_objects_count  mentioned_objects_count  \\\n",
       "0                           0                        0   \n",
       "1                           0                        1   \n",
       "2                           0                        2   \n",
       "\n",
       "   ground_truth_objects_count  chair_regression_score  \n",
       "0                           1                     0.0  \n",
       "1                           2                     0.0  \n",
       "2                           2                     0.0  "
      ]
     },
     "execution_count": 11,
     "metadata": {},
     "output_type": "execute_result"
    }
   ],
   "source": [
    "data.head(3)"
   ]
  },
  {
   "cell_type": "code",
   "execution_count": null,
   "metadata": {},
   "outputs": [],
   "source": []
  },
  {
   "cell_type": "code",
   "execution_count": 2,
   "metadata": {},
   "outputs": [],
   "source": [
    "df = pd.read_csv(\"/root/akhil_workspace/qwen_model/comprehensive_datasets/qwen_dataset_pre_generation_layer_14_end_query.csv\")"
   ]
  },
  {
   "cell_type": "code",
   "execution_count": 3,
   "metadata": {},
   "outputs": [
    {
     "data": {
      "text/plain": [
       "(40504, 10)"
      ]
     },
     "execution_count": 3,
     "metadata": {},
     "output_type": "execute_result"
    }
   ],
   "source": [
    "df.shape"
   ]
  },
  {
   "cell_type": "code",
   "execution_count": 4,
   "metadata": {},
   "outputs": [
    {
     "data": {
      "text/html": [
       "<div>\n",
       "<style scoped>\n",
       "    .dataframe tbody tr th:only-of-type {\n",
       "        vertical-align: middle;\n",
       "    }\n",
       "\n",
       "    .dataframe tbody tr th {\n",
       "        vertical-align: top;\n",
       "    }\n",
       "\n",
       "    .dataframe thead th {\n",
       "        text-align: right;\n",
       "    }\n",
       "</style>\n",
       "<table border=\"1\" class=\"dataframe\">\n",
       "  <thead>\n",
       "    <tr style=\"text-align: right;\">\n",
       "      <th></th>\n",
       "      <th>image_id</th>\n",
       "      <th>corresponding_embedding</th>\n",
       "      <th>generated_caption</th>\n",
       "      <th>ground_truth_captions</th>\n",
       "      <th>factual_score</th>\n",
       "      <th>has_hallucination</th>\n",
       "      <th>BLEU-1</th>\n",
       "      <th>BLEU-4</th>\n",
       "      <th>ROUGE-L</th>\n",
       "      <th>chair_regression_score</th>\n",
       "    </tr>\n",
       "  </thead>\n",
       "  <tbody>\n",
       "    <tr>\n",
       "      <th>0</th>\n",
       "      <td>COCO_val2014_000000000042</td>\n",
       "      <td>[0.07421875, -0.9765625, 0.19140625, 1.3359375...</td>\n",
       "      <td>\"Cozy nap time amidst the clutter!\"</td>\n",
       "      <td>This wire metal rack holds several pairs of sh...</td>\n",
       "      <td>0.834602</td>\n",
       "      <td>False</td>\n",
       "      <td>0.085570</td>\n",
       "      <td>0.020960</td>\n",
       "      <td>0.12500</td>\n",
       "      <td>0.0</td>\n",
       "    </tr>\n",
       "    <tr>\n",
       "      <th>1</th>\n",
       "      <td>COCO_val2014_000000000073</td>\n",
       "      <td>[-0.16015625, -0.90625, 0.2158203125, 1.445312...</td>\n",
       "      <td>\"Vintage motorcycle with classic design and a ...</td>\n",
       "      <td>A motorcycle parked in a parking space next to...</td>\n",
       "      <td>0.771473</td>\n",
       "      <td>False</td>\n",
       "      <td>0.272727</td>\n",
       "      <td>0.024808</td>\n",
       "      <td>0.26087</td>\n",
       "      <td>0.0</td>\n",
       "    </tr>\n",
       "  </tbody>\n",
       "</table>\n",
       "</div>"
      ],
      "text/plain": [
       "                    image_id  \\\n",
       "0  COCO_val2014_000000000042   \n",
       "1  COCO_val2014_000000000073   \n",
       "\n",
       "                             corresponding_embedding  \\\n",
       "0  [0.07421875, -0.9765625, 0.19140625, 1.3359375...   \n",
       "1  [-0.16015625, -0.90625, 0.2158203125, 1.445312...   \n",
       "\n",
       "                                   generated_caption  \\\n",
       "0                \"Cozy nap time amidst the clutter!\"   \n",
       "1  \"Vintage motorcycle with classic design and a ...   \n",
       "\n",
       "                               ground_truth_captions  factual_score  \\\n",
       "0  This wire metal rack holds several pairs of sh...       0.834602   \n",
       "1  A motorcycle parked in a parking space next to...       0.771473   \n",
       "\n",
       "   has_hallucination    BLEU-1    BLEU-4  ROUGE-L  chair_regression_score  \n",
       "0              False  0.085570  0.020960  0.12500                     0.0  \n",
       "1              False  0.272727  0.024808  0.26087                     0.0  "
      ]
     },
     "execution_count": 4,
     "metadata": {},
     "output_type": "execute_result"
    }
   ],
   "source": [
    "df.head(2)"
   ]
  },
  {
   "cell_type": "code",
   "execution_count": 5,
   "metadata": {},
   "outputs": [
    {
     "data": {
      "text/plain": [
       "str"
      ]
     },
     "execution_count": 5,
     "metadata": {},
     "output_type": "execute_result"
    }
   ],
   "source": [
    "type(df.corresponding_embedding[0])"
   ]
  },
  {
   "cell_type": "code",
   "execution_count": null,
   "metadata": {},
   "outputs": [],
   "source": []
  },
  {
   "cell_type": "code",
   "execution_count": null,
   "metadata": {},
   "outputs": [],
   "source": []
  },
  {
   "cell_type": "code",
   "execution_count": null,
   "metadata": {},
   "outputs": [],
   "source": []
  },
  {
   "cell_type": "code",
   "execution_count": null,
   "metadata": {},
   "outputs": [],
   "source": []
  },
  {
   "cell_type": "code",
   "execution_count": null,
   "metadata": {},
   "outputs": [],
   "source": []
  },
  {
   "cell_type": "code",
   "execution_count": null,
   "metadata": {},
   "outputs": [],
   "source": []
  },
  {
   "cell_type": "code",
   "execution_count": null,
   "metadata": {},
   "outputs": [],
   "source": []
  },
  {
   "cell_type": "code",
   "execution_count": null,
   "metadata": {},
   "outputs": [],
   "source": []
  }
 ],
 "metadata": {
  "kernelspec": {
   "display_name": "blip_analysis",
   "language": "python",
   "name": "python3"
  },
  "language_info": {
   "codemirror_mode": {
    "name": "ipython",
    "version": 3
   },
   "file_extension": ".py",
   "mimetype": "text/x-python",
   "name": "python",
   "nbconvert_exporter": "python",
   "pygments_lexer": "ipython3",
   "version": "3.10.18"
  }
 },
 "nbformat": 4,
 "nbformat_minor": 2
}
